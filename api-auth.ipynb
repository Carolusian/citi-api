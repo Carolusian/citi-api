{
 "cells": [
  {
   "cell_type": "code",
   "execution_count": 23,
   "metadata": {
    "collapsed": true
   },
   "outputs": [],
   "source": [
    "def get_headers(auth): \n",
    "    return {\n",
    "        'Authorization': auth,\n",
    "        \"uuid\": \"26eea1a2-8e64-494c-bf19-fd31b255831c\", \n",
    "        \"Accept\": \"application/json\", \n",
    "        \"client_id\":\"33e1afee-b172-4266-b3f3-354a865bbbf5\"    \n",
    "    }\n",
    "\n",
    "sandbox_users = {\n",
    "    'SandboxUser1': 'Bearer AAEkMzNlMWFmZWUtYjE3Mi00MjY2LWIzZjMtMzU0YTg2NWJiYmY11XNmgBCkgafna8gTmJFdhSVGtNJvb9Vtfi9gK6QaRwZ_2FOUaN9PjLZDbTgRPeqz0P7gE8RmA0BNsMgedvvpXfM4HDuzbnlv2LUH93oIhl9gakuwQ6zelAE2R8M6QlDWDu5EirIa52gDsDTjN8zcMW9j7H6J5IQWift_oWgd8WM4d57foWSHwFYuj_xPU9F0hC5MaweSXi04BUhLM_f9CA',   \n",
    "    'SandboxUser2': 'Bearer AAEkMzNlMWFmZWUtYjE3Mi00MjY2LWIzZjMtMzU0YTg2NWJiYmY1PH5FHfW760enBPpRMRo2NNiQsdiEJAIr5zCcGbdTygBMU5j-ZHRGJwlwK8IUD27Tmb5MVVsMjvyEW8i7ZsrcG97pUZyjsDMoTl_JuasHPs2DUJFEi5aCFANNFd4ULLVvkik-uwMk80gDRuE5fwqvq0MjYK6zKTIPk61TusrYasnWZyx-JY5cuCMw7S0najdaUuTXOwd0kihnreltUXeV5w',\n",
    "    'SandboxUser3': 'Bearer AAEkMzNlMWFmZWUtYjE3Mi00MjY2LWIzZjMtMzU0YTg2NWJiYmY1P3mtxgqajy8cCsdJmeFp3VG4MfzlKoEuujOX25NObmPu0ldBDQ3FsBFBZtDnqeQCE187HdzqN3Jg_p_GmIG_pNtqzntmow48ld-XKwS-FR7W_P1A4YrY8n5-Y5nCsT4zYno3hwGbLOjnq45o6wzXIgfb-MkLiVmHRnRHbv2MM5bvjcesfQr5MM30xlD46DBG_9nIxJ52HkGYug9Mumbvxw',\n",
    "    'SandboxUser4': 'Bearer AAEkMzNlMWFmZWUtYjE3Mi00MjY2LWIzZjMtMzU0YTg2NWJiYmY1kWTlrciqR59rp4w3Ou9HWLW6aFNQlJJMFBi-O2ZDvARiWoupRpv5KIm93og1IdLW03QUxML1Rhshd6EeVXPYAeKGQSu7o43iI4YP3LDvKzidEq7YNS8U_hJdOHRLZSkKwKuQrTGRrt9klmK4AXwxy0hhwp0oIn-Yp4DTnQx87YvkZEmIjp5FwgpUQFCGWtsBUdOi12RX1rWL1qxwOb28lA',\n",
    "}"
   ]
  },
  {
   "cell_type": "code",
   "execution_count": 24,
   "metadata": {
    "collapsed": false
   },
   "outputs": [],
   "source": [
    "# Get customer informations\n",
    "import requests\n",
    "\n",
    "for key, val in sandbox_users.iteritems():\n",
    "    headers = {\n",
    "        'Authorization': sandbox_users[key],\n",
    "        \"uuid\": \"26eea1a2-8e64-494c-bf19-fd31b255831c\", \n",
    "        \"Accept\": \"application/json\", \n",
    "        \"client_id\":\"33e1afee-b172-4266-b3f3-354a865bbbf5\"    \n",
    "    }\n",
    "    r = requests.get('https://sandbox.apihub.citi.com/gcb/api/v1/customers/profiles', headers=headers)\n",
    "\n",
    "    with open('data/customers/%s.json' % key, 'w') as f:\n",
    "        f.write(r.text)"
   ]
  },
  {
   "cell_type": "code",
   "execution_count": 26,
   "metadata": {
    "collapsed": false
   },
   "outputs": [
    {
     "name": "stdout",
     "output_type": "stream",
     "text": [
      "{u'savingsAccountSummary': {u'displayAccountNumber': u'XXXXXX1847', u'productCode': u'0004_SPSAV', u'accountNickname': u'PERSAVING', u'accountStatus': u'ACTIVE', u'productName': u'Personal Savings Account', u'accountClassification': u'ASSET', u'availableBalance': 13642.83, u'currentBalance': 13642.83, u'currencyCode': u'HKD', u'accountId': u'355a515030616a53576b6a65797359506a634175764a734a3238314e4668627349486a676f7449463949453d'}}\n",
      "--------\n",
      "{u'savingsAccountSummary': {u'displayAccountNumber': u'XXXXXX1369', u'productCode': u'0266_EBC01', u'currencyCode': u'HKD', u'accountStatus': u'ACTIVE', u'productName': u'HKD CASH TRADING ACCOUNT', u'accountClassification': u'ASSET', u'availableBalance': 4467.15, u'currentBalance': 4467.15, u'accountId': u'57706472614c786a31716f5855743050597473703259494179505959776a377370614b364167516a57336b3d'}}\n",
      "--------\n",
      "{u'callDepositAccountSummary': {u'displayAccountNumber': u'XXXXXX5840', u'productCode': u'0023_CHPS', u'accountNickname': u'CASH', u'accountStatus': u'ACTIVE', u'productName': u'CASH PLUS', u'accountClassification': u'ASSET', u'currentBalance': 11562.5, u'currencyCode': u'HKD', u'accountId': u'41375159436b366b32335a6b566d53315753684d2b69464f43427347654b496e2f6a4f6d4971546e622f773d'}}\n",
      "--------\n",
      "{u'timeDepositAccountSummary': {u'displayAccountNumber': u'XXXXXX0308', u'productCode': u'0204_UFTD', u'accountNickname': u'TIME', u'accountStatus': u'ACTIVE', u'productName': u'UNFIXED TD', u'accountClassification': u'ASSET', u'originalPrincipalAmount': 9.04, u'currentBalance': 9.04, u'maturityDate': u'2016-08-31', u'currencyCode': u'HKD', u'accountId': u'755a774e674f2f6d4b3074355a5439506d35464c67455251396e56794851304443306376467a45545242733d'}}\n",
      "--------\n",
      "{u'premiumDepositAccountSummary': {u'displayAccountNumber': u'XXXXXX5802', u'productCode': u'0228_PMPL', u'accountNickname': u'PREM', u'accountStatus': u'ACTIVE', u'productName': u'PREMIUM ACCOUNT', u'accountClassification': u'ASSET', u'originalPrincipalAmount': 26589.01, u'currentBalance': 26589.01, u'maturityDate': u'2016-01-13', u'currencyCode': u'HKD', u'accountId': u'336748697936664d4f72445456356763447756546362562b527953457866685839685969766c32374d79733d'}}\n",
      "--------\n",
      "{u'mutualFundAccountSummary': {u'displayAccountNumber': u'XXXXXX2302', u'productCode': u'0248_MFRDR', u'accountNickname': u'MUTUL', u'accountStatus': u'ACTIVE', u'productName': u'NRI MUTUAL FUNDS RDR ACCOUNT', u'accountClassification': u'ASSET', u'currentBalance': 665644.98, u'currencyCode': u'HKD', u'accountId': u'416b79676b52556f53465a61722b4a68647a6f677273346443794a503441444669316e3163452b767976343d'}}\n",
      "--------\n",
      "{u'securitiesBrokerageAccountSummary': {u'displayAccountNumber': u'XXXXXX7001', u'productCode': u'0131_SBC', u'accountNickname': u'SECU', u'accountStatus': u'ACTIVE', u'productName': u'SECURITIES BROKERAGE CASH ACCO', u'accountClassification': u'ASSET', u'currentBalance': 93561.68, u'currencyCode': u'HKD', u'accountId': u'6d7a6272592b334b736b46417365786d31543653454a3044496a3447584941333679792b4f3436325546513d'}}\n",
      "--------\n",
      "{u'checkingAccountSummary': {u'displayAccountNumber': u'XXXXXX7918', u'productCode': u'0001_USDCA', u'accountNickname': u'CHECK', u'accountStatus': u'ACTIVE', u'productName': u'NRI DOLLAR CHECKING', u'accountClassification': u'ASSET', u'availableBalance': 202.19, u'currentBalance': 202.19, u'currencyCode': u'HKD', u'accountId': u'3739334c4d3463614356474f6d7650667a737656664652677747796855646c5552745a43346d37423653553d'}}\n",
      "--------\n",
      "{u'checkingAccountSummary': {u'displayAccountNumber': u'XXXXXX3034', u'productCode': u'0001_AUCAI', u'currencyCode': u'HKD', u'accountStatus': u'ACTIVE', u'productName': u'HKD GLOBAL FCY AC (GCB IND)', u'accountClassification': u'ASSET', u'availableBalance': 15619.75, u'currentBalance': 15619.75, u'accountId': u'51327a46437565374770547776786c4348367545397331453164414177505a4e6d2b7131566d39476942303d'}}\n",
      "--------\n",
      "{u'creditCardAccountSummary': {u'displayAccountNumber': u'XXXXXXXXXXXX1219', u'productCode': u'0075_MC440', u'availableCredit': 5876.87, u'accountNickname': u'CREDIT', u'cardHolderType': u'PRIMARY', u'alternateCurrencyCurrentBalance': 0, u'accountStatus': u'NEW_ACCOUNT', u'productName': u'CITI PRESTIGE CARD', u'accountClassification': u'LIABILITY', u'alternateCurrency': u'HKD', u'paymentDueDate': u'2016-09-05', u'creditLimit': 10300, u'outstandingBalance': 1380.87, u'currencyCode': u'HKD', u'minimumDueAmount': 150, u'accountId': u'674d4a4f6a443741656e5a584a6f57665a444e685772393273615777397a4c665073305a5a2b51356f76513d'}}\n",
      "--------\n",
      "{u'creditCardAccountSummary': {u'displayAccountNumber': u'XXXXXXXXXXXX1213', u'productCode': u'0075_MC440', u'availableCredit': 30.87, u'accountNickname': u'CREDIT', u'cardHolderType': u'SUPPLEMENTARY', u'alternateCurrencyCurrentBalance': 0, u'accountStatus': u'NEW_ACCOUNT', u'productName': u'CITI PRESTIGE CARD', u'accountClassification': u'LIABILITY', u'alternateCurrency': u'HKD', u'paymentDueDate': u'2017-09-05', u'creditLimit': 300, u'outstandingBalance': 30.87, u'currencyCode': u'HKD', u'minimumDueAmount': 150, u'accountId': u'5557596e6f556132725970397479356a4e66504f4638516772434d4663784176616174663332366b4739383d'}}\n",
      "--------\n",
      "{u'readyCreditAccountSummary': {u'displayAccountNumber': u'XXXXXXXXXXXX8943', u'productCode': u'0015_RC620', u'availableCredit': 7400.22, u'accountNickname': u'READY', u'accountStatus': u'ACTIVE', u'productName': u'READY CREDIT', u'accountClassification': u'LIABILITY', u'nextPaymentAmount': 0, u'outstandingBalance': 374131.44, u'nextPaymentDate': u'2016-10-04', u'currencyCode': u'HKD', u'accountId': u'4a6b792b33324a5858686a354c4546314a367437386e77386e377152387875426a7770736f6c6643724a6b3d'}}\n",
      "--------\n",
      "{u'loanAccountSummary': {u'displayAccountNumber': u'XXXXXXXXXXXX2001', u'productCode': u'0200_T0PI', u'accountNickname': u'LOAN', u'nextPaymentAmount': 973358.25, u'accountStatus': u'ACTIVE', u'productName': u'TERM/TIME LOAN P-I (360)', u'accountClassification': u'LIABILITY', u'originalPrincipalAmount': 900000, u'outstandingBalance': 900000, u'nextPaymentDate': u'2016-10-11', u'currencyCode': u'HKD', u'accountId': u'4b484730396761544977444139687062412b57484239354779702b67747a357537477770584262315073493d'}}\n",
      "--------\n"
     ]
    }
   ],
   "source": [
    "# Get customer accounts\n",
    "\n",
    "import requests\n",
    "import json\n",
    "\n",
    "for key, val in sandbox_users.iteritems(): \n",
    "    headers = {\n",
    "        'Authorization': sandbox_users[key],\n",
    "        \"uuid\": \"26eea1a2-8e64-494c-bf19-fd31b255831c\", \n",
    "        \"Accept\": \"application/json\", \n",
    "        \"client_id\":\"33e1afee-b172-4266-b3f3-354a865bbbf5\"    \n",
    "    }\n",
    "\n",
    "    r = requests.get('https://sandbox.apihub.citi.com/gcb/api/v1/accounts', headers=headers)\n",
    "    with open('data/accounts/%s/summary.txt' % key, 'w') as f:\n",
    "        f.write(r.text)\n",
    "    \n",
    "    accounts = json.loads(r.text)\n",
    "    \n",
    "    # Get customer transactions\n",
    "    for acct in accounts['accountGroupSummary'][0]['accounts']:\n",
    "        print(acct)\n",
    "        print('--------')\n",
    "        for k, v in acct.iteritems():\n",
    "            accountId = v['accountId']\n",
    "            r = requests.get('https://sandbox.apihub.citi.com/gcb/api/v1/accounts/%s/transactions' % accountId, headers=headers)\n",
    "            with open('data/accounts/%s/transactions-%s.txt' % (key, accountId), 'w') as f:\n",
    "                f.write(r.text)"
   ]
  },
  {
   "cell_type": "code",
   "execution_count": 8,
   "metadata": {
    "collapsed": false
   },
   "outputs": [
    {
     "name": "stdout",
     "output_type": "stream",
     "text": [
      "{u'savingsAccountSummary': {u'displayAccountNumber': u'XXXXXX1847', u'productCode': u'0004_SPSAV', u'accountNickname': u'PERSAVING', u'accountStatus': u'ACTIVE', u'productName': u'Personal Savings Account', u'accountClassification': u'ASSET', u'availableBalance': 13642.83, u'currentBalance': 13642.83, u'currencyCode': u'HKD', u'accountId': u'355a515030616a53576b6a65797359506a634175764a734a3238314e4668627349486a676f7449463949453d'}}\n",
      "--------\n",
      "{u'savingsAccountSummary': {u'displayAccountNumber': u'XXXXXX1369', u'productCode': u'0266_EBC01', u'currencyCode': u'HKD', u'accountStatus': u'ACTIVE', u'productName': u'HKD CASH TRADING ACCOUNT', u'accountClassification': u'ASSET', u'availableBalance': 4467.15, u'currentBalance': 4467.15, u'accountId': u'57706472614c786a31716f5855743050597473703259494179505959776a377370614b364167516a57336b3d'}}\n",
      "--------\n",
      "{u'callDepositAccountSummary': {u'displayAccountNumber': u'XXXXXX5840', u'productCode': u'0023_CHPS', u'accountNickname': u'CASH', u'accountStatus': u'ACTIVE', u'productName': u'CASH PLUS', u'accountClassification': u'ASSET', u'currentBalance': 11562.5, u'currencyCode': u'HKD', u'accountId': u'41375159436b366b32335a6b566d53315753684d2b69464f43427347654b496e2f6a4f6d4971546e622f773d'}}\n",
      "--------\n",
      "{u'timeDepositAccountSummary': {u'displayAccountNumber': u'XXXXXX0308', u'productCode': u'0204_UFTD', u'accountNickname': u'TIME', u'accountStatus': u'ACTIVE', u'productName': u'UNFIXED TD', u'accountClassification': u'ASSET', u'originalPrincipalAmount': 9.04, u'currentBalance': 9.04, u'maturityDate': u'2016-08-31', u'currencyCode': u'HKD', u'accountId': u'755a774e674f2f6d4b3074355a5439506d35464c67455251396e56794851304443306376467a45545242733d'}}\n",
      "--------\n",
      "{u'premiumDepositAccountSummary': {u'displayAccountNumber': u'XXXXXX5802', u'productCode': u'0228_PMPL', u'accountNickname': u'PREM', u'accountStatus': u'ACTIVE', u'productName': u'PREMIUM ACCOUNT', u'accountClassification': u'ASSET', u'originalPrincipalAmount': 26589.01, u'currentBalance': 26589.01, u'maturityDate': u'2016-01-13', u'currencyCode': u'HKD', u'accountId': u'336748697936664d4f72445456356763447756546362562b527953457866685839685969766c32374d79733d'}}\n",
      "--------\n",
      "{u'mutualFundAccountSummary': {u'displayAccountNumber': u'XXXXXX2302', u'productCode': u'0248_MFRDR', u'accountNickname': u'MUTUL', u'accountStatus': u'ACTIVE', u'productName': u'NRI MUTUAL FUNDS RDR ACCOUNT', u'accountClassification': u'ASSET', u'currentBalance': 665644.98, u'currencyCode': u'HKD', u'accountId': u'416b79676b52556f53465a61722b4a68647a6f677273346443794a503441444669316e3163452b767976343d'}}\n",
      "--------\n",
      "{u'securitiesBrokerageAccountSummary': {u'displayAccountNumber': u'XXXXXX7001', u'productCode': u'0131_SBC', u'accountNickname': u'SECU', u'accountStatus': u'ACTIVE', u'productName': u'SECURITIES BROKERAGE CASH ACCO', u'accountClassification': u'ASSET', u'currentBalance': 93561.68, u'currencyCode': u'HKD', u'accountId': u'6d7a6272592b334b736b46417365786d31543653454a3044496a3447584941333679792b4f3436325546513d'}}\n",
      "--------\n"
     ]
    }
   ],
   "source": []
  },
  {
   "cell_type": "code",
   "execution_count": 33,
   "metadata": {
    "collapsed": false
   },
   "outputs": [
    {
     "name": "stdout",
     "output_type": "stream",
     "text": [
      "200\n",
      "{\"cardDetails\":[{\"cardId\":\"3565666277647878436c505774504c504a594261686a4c676f2f2b2b67334e32747967676f4c7341794e553d\",\"displayCardNumber\":\"XXXXXXXXXXXX1369\",\"localCardActivationIndicator\":\"INACTIVE\",\"overseasCardActivationIndicator\":\"ACTIVE\",\"perpetualActivationFlag\":false,\"overseasCardActivationStartDate\":\"2017-01-01\",\"overseasCardActivationEndDate\":\"2017-04-01\",\"currentCreditLimitAmount\":3500,\"subCardType\":\"CREDIT\",\"cardHolderType\":\"PRIMARY\",\"cardFunctionsAllowed\":[{\"cardFunction\":\"LOCAL_CARD_ACTIVATION\"},{\"cardFunction\":\"OVERSEAS_CARD_ACTIVATION\"}]},{\"cardId\":\"4565666277647878436c505774504c504a594261686a4c676f2f2b2b67334e32747967676f4c7341794e553d\",\"displayCardNumber\":\"XXXXXXXXXXXX9361\",\"localCardActivationIndicator\":\"ACTIVE\",\"overseasCardActivationIndicator\":\"INACTIVE\",\"perpetualActivationFlag\":true,\"currentCreditLimitAmount\":1500,\"subCardType\":\"CREDIT\",\"cardHolderType\":\"SUPPLEMENTARY\",\"cardFunctionsAllowed\":[{\"cardFunction\":\"OVERSEAS_CARD_ACTIVATION\"},{\"cardFunction\":\"LOCAL_CARD_ACTIVATION\"},{\"cardFunction\":\"REPORT_LOST_STOLEN\"},{\"cardFunction\":\"CREDIT_LIMIT_INCREASE\"}]},{\"cardId\":\"6565666277647878436c505774504c504a594261686a4c676f2f2b2b67334e32747967676f4c7341794e553d\",\"displayCardNumber\":\"XXXXXXXXXXXX4521\",\"localCardActivationIndicator\":\"ACTIVE\",\"overseasCardActivationIndicator\":\"ACTIVE\",\"perpetualActivationFlag\":true,\"subCardType\":\"DEBIT\",\"cardFunctionsAllowed\":[{\"cardFunction\":\"REPORT_LOST_STOLEN\"}]}]}\n",
      "---\n",
      "200\n",
      "{\"cardDetails\":[{\"cardId\":\"30496e4338513957575a6142413432457937783672656579796d4159662b4672676c3231516a4a6f4334413d\",\"displayCardNumber\":\"XXXXXXXXXXXX2264\",\"localCardActivationIndicator\":\"INACTIVE\",\"overseasCardActivationIndicator\":\"ACTIVE\",\"perpetualActivationFlag\":false,\"overseasCardActivationStartDate\":\"2017-01-01\",\"overseasCardActivationEndDate\":\"2017-04-01\",\"currentCreditLimitAmount\":3600,\"subCardType\":\"CREDIT\",\"cardHolderType\":\"PRIMARY\",\"cardFunctionsAllowed\":[{\"cardFunction\":\"LOCAL_CARD_ACTIVATION\"},{\"cardFunction\":\"OVERSEAS_CARD_ACTIVATION\"}]},{\"cardId\":\"40496e4338513957575a6142413432457937783672656579796d4159662b4672676c3231516a4a6f4334413d\",\"displayCardNumber\":\"XXXXXXXXXXXX3364\",\"localCardActivationIndicator\":\"ACTIVE\",\"overseasCardActivationIndicator\":\"INACTIVE\",\"perpetualActivationFlag\":true,\"currentCreditLimitAmount\":1800,\"subCardType\":\"CREDIT\",\"cardHolderType\":\"PRIMARY\",\"cardFunctionsAllowed\":[{\"cardFunction\":\"OVERSEAS_CARD_ACTIVATION\"},{\"cardFunction\":\"LOCAL_CARD_ACTIVATION\"},{\"cardFunction\":\"REPORT_LOST_STOLEN\"},{\"cardFunction\":\"CREDIT_LIMIT_INCREASE\"}]}]}\n",
      "---\n",
      "200\n",
      "{\"cardDetails\":[{\"cardId\":\"4141704f4c746c6253416d35483468563433754e64723177717871764c624f312b5647677741724f4739593d\",\"displayCardNumber\":\"XXXXXXXXXXXX6361\",\"localCardActivationIndicator\":\"ACTIVE\",\"overseasCardActivationIndicator\":\"INACTIVE\",\"perpetualActivationFlag\":false,\"overseasCardActivationStartDate\":\"2017-01-01\",\"overseasCardActivationEndDate\":\"2017-04-01\",\"currentCreditLimitAmount\":90000,\"maximumTemporaryCreditLimitAmount\":630000,\"subCardType\":\"CREDIT\",\"cardHolderType\":\"PRIMARY\",\"cardFunctionsAllowed\":[{\"cardFunction\":\"OVERSEAS_CARD_ACTIVATION\"},{\"cardFunction\":\"REPORT_LOST_STOLEN\"},{\"cardFunction\":\"CREDIT_LIMIT_INCREASE\"}]},{\"cardId\":\"3141704f4c746c6253416d35483468563433754e64723177717871764c624f312b5647677741724f4739593d\",\"displayCardNumber\":\"XXXXXXXXXXXX6764\",\"localCardActivationIndicator\":\"INACTIVE\",\"overseasCardActivationIndicator\":\"ACTIVE\",\"perpetualActivationFlag\":true,\"currentCreditLimitAmount\":210000,\"maximumTemporaryCreditLimitAmount\":420000,\"subCardType\":\"CREDIT\",\"cardHolderType\":\"PRIMARY\",\"cardFunctionsAllowed\":[{\"cardFunction\":\"LOCAL_CARD_ACTIVATION\"}]}]}\n",
      "---\n",
      "404\n",
      "{ \"type\": \"error\",  \"code\": \"resourceNotFound\",  \"details\": \"Empty resource/resource not found\"}\n",
      "---\n"
     ]
    }
   ],
   "source": [
    "# Get customer credit cards\n",
    "\n",
    "import requests\n",
    "\n",
    "for key, val in sandbox_users.iteritems():\n",
    "    headers = {\n",
    "        'Authorization': sandbox_users[key],\n",
    "        \"uuid\": \"26eea1a2-8e64-494c-bf19-fd31b255831c\", \n",
    "        \"Accept\": \"application/json\", \n",
    "        \"client_id\":\"33e1afee-b172-4266-b3f3-354a865bbbf5\"    \n",
    "    }\n",
    "    r = requests.get('https://sandbox.apihub.citi.com/gcb/api/v1/cards?cardFunction=ALL', headers=headers)\n",
    "\n",
    "    print(r.status_code)\n",
    "    if r.status_code == 200:\n",
    "        with open('data/cards/%s.json' % key, 'w') as f:\n",
    "            f.write(r.text)\n",
    "    print(r.text)\n",
    "    print('---')"
   ]
  },
  {
   "cell_type": "code",
   "execution_count": 36,
   "metadata": {
    "collapsed": false
   },
   "outputs": [
    {
     "name": "stdout",
     "output_type": "stream",
     "text": [
      "{\"availablePointBalance\":100000,\"programConversionRate\":0.001,\"currencyCode\":\"HKD\",\"maximumPointsToRedeem\":60000,\"minimumPointsToRedeem\":2000}\n"
     ]
    }
   ],
   "source": [
    "# Get Redemption points\n",
    "\n",
    "import requests\n",
    "\n",
    "headers = {\n",
    "    'Authorization': sandbox_users['SandboxUser1'],\n",
    "    \"uuid\": \"26eea1a2-8e64-494c-bf19-fd31b255831c\", \n",
    "    \"Accept\": \"application/json\", \n",
    "    \"client_id\":\"33e1afee-b172-4266-b3f3-354a865bbbf5\"    \n",
    "}\n",
    "\n",
    "r = requests.get('https://sandbox.apihub.citi.com/gcb/api/v1/apac/rewards/9988799798383690000/pointBalance', headers=headers)\n",
    "\n",
    "with open('data/points/%s.json' % 'SandboxUser1', 'w') as f:\n",
    "    f.write(r.text)\n",
    "print(r.text)"
   ]
  }
 ],
 "metadata": {
  "kernelspec": {
   "display_name": "Python 2",
   "language": "python",
   "name": "python2"
  },
  "language_info": {
   "codemirror_mode": {
    "name": "ipython",
    "version": 2
   },
   "file_extension": ".py",
   "mimetype": "text/x-python",
   "name": "python",
   "nbconvert_exporter": "python",
   "pygments_lexer": "ipython2",
   "version": "2.7.11"
  }
 },
 "nbformat": 4,
 "nbformat_minor": 0
}
